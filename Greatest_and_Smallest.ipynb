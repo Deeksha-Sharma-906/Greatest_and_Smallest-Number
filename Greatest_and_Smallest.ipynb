{
 "cells": [
  {
   "cell_type": "markdown",
   "id": "fb1565af-9eeb-4cf7-a45b-dce6fa160192",
   "metadata": {},
   "source": [
    "#Take three user inputs and print the greatest number from those inputs using if-else condition. Edge cases, if any, should also be handled"
   ]
  },
  {
   "cell_type": "code",
   "execution_count": 41,
   "id": "3bb6c1d8-75ef-4f92-890d-9e776217c7c1",
   "metadata": {},
   "outputs": [
    {
     "name": "stdin",
     "output_type": "stream",
     "text": [
      "Enter first number:  10\n",
      "Enter second number:  20\n",
      "Enter third number:  10\n"
     ]
    }
   ],
   "source": [
    "#Input numbers\n",
    "\n",
    "a = float(input(\"Enter first number: \"))\n",
    "b = float(input(\"Enter second number: \"))\n",
    "c = float(input(\"Enter third number: \"))"
   ]
  },
  {
   "cell_type": "code",
   "execution_count": null,
   "id": "5ae0c3a5-d7e1-400a-80c8-085c428c524b",
   "metadata": {},
   "outputs": [],
   "source": []
  },
  {
   "cell_type": "markdown",
   "id": "cbec91e2-bd79-48e9-b2e1-02585cd904dc",
   "metadata": {},
   "source": [
    "###Simple If-Else"
   ]
  },
  {
   "cell_type": "code",
   "execution_count": 43,
   "id": "5b054fba-90aa-49b0-84df-d9de7cf3a707",
   "metadata": {},
   "outputs": [
    {
     "name": "stdout",
     "output_type": "stream",
     "text": [
      "20.0 is grater than 10.0 and 10.0\n"
     ]
    }
   ],
   "source": [
    "#Find the greater number\n",
    "\n",
    "if a>b and a>c:\n",
    "    print(f\"{a} is grater than {b} and {c}\")\n",
    "elif b>a and b>c: \n",
    "    print(f\"{b} is grater than {a} and {c}\")\n",
    "else:\n",
    "    print(f\"{c} is grater than {a} and {b}\")"
   ]
  },
  {
   "cell_type": "code",
   "execution_count": 45,
   "id": "5d20ffdd-17a5-408c-b5e7-5f7c37722c0c",
   "metadata": {},
   "outputs": [
    {
     "name": "stdout",
     "output_type": "stream",
     "text": [
      "10.0 is smallest than 10.0 and 20.0\n"
     ]
    }
   ],
   "source": [
    "#Find the smallest number\n",
    "\n",
    "if a<b and a<c:\n",
    "    print(f\"{a} is smallest than {b} and {c}\")\n",
    "elif b<a and b<c: \n",
    "    print(f\"{b} is smallest than {a} and {c}\")\n",
    "else:\n",
    "    print(f\"{c} is smallest than {a} and {b}\")"
   ]
  },
  {
   "cell_type": "code",
   "execution_count": null,
   "id": "fcc977f3-4f16-47b0-bb45-a9e41a0d6364",
   "metadata": {},
   "outputs": [],
   "source": []
  },
  {
   "cell_type": "markdown",
   "id": "162d8d87-73bb-4354-bea3-f26f7c2c7c4a",
   "metadata": {},
   "source": [
    "###Nested If-Else"
   ]
  },
  {
   "cell_type": "code",
   "execution_count": 47,
   "id": "d57d4304-b977-4cc8-9740-b706c7698e15",
   "metadata": {},
   "outputs": [
    {
     "name": "stdout",
     "output_type": "stream",
     "text": [
      "20.0 is greater than 10.0 and 10.0\n"
     ]
    }
   ],
   "source": [
    "#Find the greater number\n",
    "\n",
    "if a>b:\n",
    "    if a>c:\n",
    "        print(f\"{a} is greater than {b} and {c}\")\n",
    "    else:\n",
    "        print(f\"{c} is greater than {a} and {b}\")\n",
    "elif b>c:\n",
    "    print(f\"{b} is greater than {a} and {c}\")\n",
    "else:\n",
    "    print(f\"{c} is greater than {a} and {b}\")"
   ]
  },
  {
   "cell_type": "code",
   "execution_count": 49,
   "id": "3c3888ef-5f52-4394-a33a-cca783ec6311",
   "metadata": {},
   "outputs": [
    {
     "name": "stdout",
     "output_type": "stream",
     "text": [
      "10.0 is smallest than 10.0 and 20.0\n"
     ]
    }
   ],
   "source": [
    "#Find the smallest number\n",
    "\n",
    "if a<b:\n",
    "    if a<c:\n",
    "        print(f\"{a} is smallest than {b} and {c}\")\n",
    "    else:\n",
    "        print(f\"{c} is smallest than {a} and {b}\")\n",
    "elif b<c:\n",
    "    print(f\"{b} is smallest than {a} and {c}\")\n",
    "else:\n",
    "    print(f\"{c} is smallest than {a} and {b}\")"
   ]
  },
  {
   "cell_type": "code",
   "execution_count": null,
   "id": "3fdf0ee3-defe-48c7-b9b3-a94f13ca882e",
   "metadata": {},
   "outputs": [],
   "source": []
  }
 ],
 "metadata": {
  "kernelspec": {
   "display_name": "Python 3 (ipykernel)",
   "language": "python",
   "name": "python3"
  },
  "language_info": {
   "codemirror_mode": {
    "name": "ipython",
    "version": 3
   },
   "file_extension": ".py",
   "mimetype": "text/x-python",
   "name": "python",
   "nbconvert_exporter": "python",
   "pygments_lexer": "ipython3",
   "version": "3.12.7"
  }
 },
 "nbformat": 4,
 "nbformat_minor": 5
}
